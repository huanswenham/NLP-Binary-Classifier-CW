{
 "cells": [
  {
   "cell_type": "markdown",
   "metadata": {},
   "source": [
    "## Analysis C"
   ]
  },
  {
   "cell_type": "code",
   "execution_count": 1,
   "metadata": {},
   "outputs": [
    {
     "name": "stderr",
     "output_type": "stream",
     "text": [
      "c:\\Users\\Huan Swen\\Desktop\\Year 4\\Natural Language Processing\\nlp_binary_classifier_cw\\venv\\Lib\\site-packages\\tqdm\\auto.py:21: TqdmWarning: IProgress not found. Please update jupyter and ipywidgets. See https://ipywidgets.readthedocs.io/en/stable/user_install.html\n",
      "  from .autonotebook import tqdm as notebook_tqdm\n"
     ]
    }
   ],
   "source": [
    "from transformers import AutoModel\n",
    "import pandas as pd\n",
    "import numpy as np"
   ]
  },
  {
   "cell_type": "code",
   "execution_count": null,
   "metadata": {},
   "outputs": [
    {
     "name": "stdout",
     "output_type": "stream",
     "text": [
      "218\n",
      "194\n",
      "233\n",
      "217\n",
      "207\n",
      "226\n",
      "212\n",
      "190\n",
      "209\n",
      "188\n"
     ]
    }
   ],
   "source": [
    "# Load model with the configuration\n",
    "model = AutoModel.from_pretrained('path_to_model_folder_or_model_name', config=config)\n",
    "\n",
    "# Get the dev dataset\n",
    "test_df = pd.read_csv(\"data/dev_set.csv\")\n",
    "test_df = pd.DataFrame(test_df)\n",
    "\n",
    "communities = set(test_df[\"community\"])\n",
    "\n",
    "for community in communities:\n",
    "    filtered_df = test_df[test_df['community'] == community]\n",
    "\n",
    "    sentences = filtered_df[\"text\"]\n",
    "\n",
    "    # Predict with model\n",
    "\n",
    "    # Calculate F1 score"
   ]
  }
 ],
 "metadata": {
  "kernelspec": {
   "display_name": "venv",
   "language": "python",
   "name": "python3"
  },
  "language_info": {
   "codemirror_mode": {
    "name": "ipython",
    "version": 3
   },
   "file_extension": ".py",
   "mimetype": "text/x-python",
   "name": "python",
   "nbconvert_exporter": "python",
   "pygments_lexer": "ipython3",
   "version": "3.12.7"
  }
 },
 "nbformat": 4,
 "nbformat_minor": 2
}
